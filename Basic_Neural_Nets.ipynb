{
  "nbformat": 4,
  "nbformat_minor": 0,
  "metadata": {
    "colab": {
      "name": "Basic Neural Nets.ipynb",
      "provenance": [],
      "collapsed_sections": [],
      "authorship_tag": "ABX9TyPAcvIvRwKuiyuLicooozyv",
      "include_colab_link": true
    },
    "kernelspec": {
      "name": "python3",
      "display_name": "Python 3"
    }
  },
  "cells": [
    {
      "cell_type": "markdown",
      "metadata": {
        "id": "view-in-github",
        "colab_type": "text"
      },
      "source": [
        "<a href=\"https://colab.research.google.com/github/debolina201/Building-Neural-Nets-with-Keras/blob/main/Basic_Neural_Nets.ipynb\" target=\"_parent\"><img src=\"https://colab.research.google.com/assets/colab-badge.svg\" alt=\"Open In Colab\"/></a>"
      ]
    },
    {
      "cell_type": "markdown",
      "metadata": {
        "id": "jfPLdqs0vXph"
      },
      "source": [
        "# Introduction to Keras\r\n",
        "\r\n",
        "Keras is an API designed for human beings, not machines. Keras follows best practices for reducing cognitive load: it offers consistent & simple APIs, it minimizes the number of user actions required for common use cases, and it provides clear & actionable error messages. It also has extensive documentation and developer guides. Keras is a wrapper around a backend library, so a backend like TensorFlow must be provided.\r\n",
        "\r\n",
        "# A simple neural network!\r\n",
        "\r\n",
        "You will build a network that takes two numbers as an input, passes them through a hidden layer of 10 neurons, and finally outputs a single number."
      ]
    },
    {
      "cell_type": "code",
      "metadata": {
        "id": "ZLcWZ0qVctcU",
        "colab": {
          "base_uri": "https://localhost:8080/"
        },
        "outputId": "bd6461c2-a5f2-4bc7-a2bf-0dce0c440258"
      },
      "source": [
        "# Import the Sequential model and Dense layer\r\n",
        "from keras.models import Sequential\r\n",
        "from keras.layers import Dense\r\n",
        "\r\n",
        "# Create a Sequential model\r\n",
        "model = Sequential()\r\n",
        "\r\n",
        "# Add an input layer and a hidden layer with 10 neurons\r\n",
        "model.add(Dense(10, input_shape=(2,), activation=\"relu\"))\r\n",
        "\r\n",
        "# Add a 1-neuron output layer\r\n",
        "model.add(Dense(1))\r\n",
        "\r\n",
        "# Summarise your model\r\n",
        "model.summary()"
      ],
      "execution_count": null,
      "outputs": [
        {
          "output_type": "stream",
          "text": [
            "Model: \"sequential\"\n",
            "_________________________________________________________________\n",
            "Layer (type)                 Output Shape              Param #   \n",
            "=================================================================\n",
            "dense (Dense)                (None, 10)                30        \n",
            "_________________________________________________________________\n",
            "dense_1 (Dense)              (None, 1)                 11        \n",
            "=================================================================\n",
            "Total params: 41\n",
            "Trainable params: 41\n",
            "Non-trainable params: 0\n",
            "_________________________________________________________________\n"
          ],
          "name": "stdout"
        }
      ]
    },
    {
      "cell_type": "markdown",
      "metadata": {
        "id": "jGpwPvr3v1dD"
      },
      "source": [
        "Analyzing the number of parameters:\r\n",
        "\r\n",
        "dense: 2 * 10 + 1 * 10 = 20 + 10 = 30\r\n",
        "\r\n",
        "dense_1: 10 * 1 + 1 = 11"
      ]
    },
    {
      "cell_type": "code",
      "metadata": {
        "colab": {
          "base_uri": "https://localhost:8080/",
          "height": 312
        },
        "id": "y5dfxlh_vw5M",
        "outputId": "02554f4a-018a-4332-99ad-8ca0ba095524"
      },
      "source": [
        "from tensorflow.keras.utils import plot_model\r\n",
        "plot_model(model, to_file='basic-net.png', show_shapes=True)"
      ],
      "execution_count": null,
      "outputs": [
        {
          "output_type": "execute_result",
          "data": {
            "image/png": "[encoded data removed]",
            "text/plain": [
              "<IPython.core.display.Image object>"
            ]
          },
          "metadata": {
            "tags": []
          },
          "execution_count": 2
        }
      ]
    },
    {
      "cell_type": "code",
      "metadata": {
        "id": "myiOkmqhw6gI"
      },
      "source": [
        "!pip install ann_visualizer"
      ],
      "execution_count": null,
      "outputs": []
    },
    {
      "cell_type": "code",
      "metadata": {
        "id": "ugKsANOfwd-Z"
      },
      "source": [
        "from ann_visualizer.visualize import ann_viz\r\n",
        "ann_viz(model, title=\"Artificial Neural network - Model Visualization\")"
      ],
      "execution_count": null,
      "outputs": []
    }
  ]
}